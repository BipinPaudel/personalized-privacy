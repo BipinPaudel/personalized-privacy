{
 "cells": [
  {
   "cell_type": "code",
   "execution_count": 3,
   "metadata": {},
   "outputs": [],
   "source": [
    "import numpy as np\n",
    "import random"
   ]
  },
  {
   "cell_type": "code",
   "execution_count": null,
   "metadata": {},
   "outputs": [],
   "source": [
    "w = np.array([1,2,3,4,10])\n",
    "p = w/sum(w)\n",
    "\n",
    "print(p)\n",
    "def pickIndex():\n",
    "    return np.random.choice(w, p=p)\n",
    "\n",
    "i = 20\n",
    "while i != 0:\n",
    "    print(pickIndex())\n",
    "    i -= 1\n",
    "\n"
   ]
  },
  {
   "cell_type": "code",
   "execution_count": 65,
   "metadata": {},
   "outputs": [],
   "source": [
    "images = np.random.rand(1000,224,224, 3)\n",
    "sampled_images_idx = np.random.choice(images.shape[0], n, replace=False)"
   ]
  },
  {
   "cell_type": "code",
   "execution_count": 81,
   "metadata": {},
   "outputs": [
    {
     "ename": "TypeError",
     "evalue": "'tuple' object cannot be interpreted as an integer",
     "output_type": "error",
     "traceback": [
      "\u001b[0;31m---------------------------------------------------------------------------\u001b[0m",
      "\u001b[0;31mTypeError\u001b[0m                                 Traceback (most recent call last)",
      "\u001b[1;32m/home/b/bipinp/projects/pp/inter.ipynb Cell 4\u001b[0m line \u001b[0;36m1\n\u001b[1;32m     <a href='vscode-notebook-cell://ssh-remote%2Bpits-gpu.cs.ksu.edu/home/b/bipinp/projects/pp/inter.ipynb#W2sdnNjb2RlLXJlbW90ZQ%3D%3D?line=9'>10</a>\u001b[0m batch_size \u001b[39m=\u001b[39m \u001b[39m16\u001b[39m\n\u001b[1;32m     <a href='vscode-notebook-cell://ssh-remote%2Bpits-gpu.cs.ksu.edu/home/b/bipinp/projects/pp/inter.ipynb#W2sdnNjb2RlLXJlbW90ZQ%3D%3D?line=10'>11</a>\u001b[0m total_batch \u001b[39m=\u001b[39m n\u001b[39m/\u001b[39m\u001b[39m/\u001b[39m\u001b[39m16\u001b[39m\n\u001b[0;32m---> <a href='vscode-notebook-cell://ssh-remote%2Bpits-gpu.cs.ksu.edu/home/b/bipinp/projects/pp/inter.ipynb#W2sdnNjb2RlLXJlbW90ZQ%3D%3D?line=11'>12</a>\u001b[0m batched_image \u001b[39m=\u001b[39m sampled_images[:batch_size \u001b[39m*\u001b[39;49m total_batch]\u001b[39m.\u001b[39;49mreshape(total_batch, batch_size, img_shape)\n\u001b[1;32m     <a href='vscode-notebook-cell://ssh-remote%2Bpits-gpu.cs.ksu.edu/home/b/bipinp/projects/pp/inter.ipynb#W2sdnNjb2RlLXJlbW90ZQ%3D%3D?line=12'>13</a>\u001b[0m \u001b[39m# output = model(batched_image[0])\u001b[39;00m\n\u001b[1;32m     <a href='vscode-notebook-cell://ssh-remote%2Bpits-gpu.cs.ksu.edu/home/b/bipinp/projects/pp/inter.ipynb#W2sdnNjb2RlLXJlbW90ZQ%3D%3D?line=13'>14</a>\u001b[0m \n\u001b[1;32m     <a href='vscode-notebook-cell://ssh-remote%2Bpits-gpu.cs.ksu.edu/home/b/bipinp/projects/pp/inter.ipynb#W2sdnNjb2RlLXJlbW90ZQ%3D%3D?line=14'>15</a>\u001b[0m \u001b[39m# output.shape\u001b[39;00m\n",
      "\u001b[0;31mTypeError\u001b[0m: 'tuple' object cannot be interpreted as an integer"
     ]
    }
   ],
   "source": [
    "import numpy as np\n",
    "from torchvision.models import resnet50, ResNet50_Weights\n",
    "\n",
    "model = resnet50(weights=ResNet50_Weights.IMAGENET1K_V1)\n",
    "\n",
    "\n",
    "n = 500\n",
    "\n",
    "sampled_images = images[sampled_images_idx]\n",
    "batch_size = 16\n",
    "total_batch = n//16\n",
    "batched_image = sampled_images[:batch_size * total_batch].reshape(total_batch, batch_size,3, 224, 224)\n",
    "# output = model(batched_image[0])\n",
    "\n",
    "# output.shape\n",
    "\n"
   ]
  },
  {
   "cell_type": "code",
   "execution_count": 77,
   "metadata": {},
   "outputs": [],
   "source": [
    "import torch\n",
    "output = model(torch.tensor(batched_image[0].reshape(16, 3,224,224), dtype=torch.float32))"
   ]
  },
  {
   "cell_type": "code",
   "execution_count": 78,
   "metadata": {},
   "outputs": [
    {
     "data": {
      "text/plain": [
       "((16, 224, 224, 3), torch.Size([16, 1000]))"
      ]
     },
     "execution_count": 78,
     "metadata": {},
     "output_type": "execute_result"
    }
   ],
   "source": [
    "batched_image[0].shape, output.shape"
   ]
  },
  {
   "cell_type": "code",
   "execution_count": 79,
   "metadata": {},
   "outputs": [
    {
     "name": "stdout",
     "output_type": "stream",
     "text": [
      "tensor(126)\n"
     ]
    }
   ],
   "source": [
    "print(output[0].argmax())"
   ]
  },
  {
   "cell_type": "code",
   "execution_count": 80,
   "metadata": {},
   "outputs": [
    {
     "name": "stdout",
     "output_type": "stream",
     "text": [
      "tensor([126, 674, 412,  89, 845, 600, 824, 822, 417,  67, 447, 502, 750, 830,\n",
      "        345,  87])\n"
     ]
    }
   ],
   "source": [
    "print(torch.argmax(output, axis=1))"
   ]
  },
  {
   "cell_type": "code",
   "execution_count": 1,
   "metadata": {},
   "outputs": [
    {
     "name": "stdout",
     "output_type": "stream",
     "text": [
      "(1, 6)\n",
      "(2, 4)\n"
     ]
    }
   ],
   "source": [
    "import heapq\n",
    "\n",
    "arr = []\n",
    "heapq.heappush(arr, (1,6))\n",
    "heapq.heappush(arr, (2,4))\n",
    "\n",
    "while arr:\n",
    "    print(heapq.heappop(arr))\n",
    "    "
   ]
  },
  {
   "cell_type": "code",
   "execution_count": null,
   "metadata": {},
   "outputs": [],
   "source": [
    "6.282-6.263"
   ]
  },
  {
   "cell_type": "code",
   "execution_count": null,
   "metadata": {},
   "outputs": [],
   "source": []
  }
 ],
 "metadata": {
  "kernelspec": {
   "display_name": "Python (whatever you want to call it)",
   "language": "python",
   "name": "priv_tuts"
  },
  "language_info": {
   "codemirror_mode": {
    "name": "ipython",
    "version": 3
   },
   "file_extension": ".py",
   "mimetype": "text/x-python",
   "name": "python",
   "nbconvert_exporter": "python",
   "pygments_lexer": "ipython3",
   "version": "3.8.10"
  }
 },
 "nbformat": 4,
 "nbformat_minor": 2
}
