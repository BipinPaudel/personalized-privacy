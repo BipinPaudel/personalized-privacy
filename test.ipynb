{
 "cells": [
  {
   "cell_type": "code",
   "execution_count": 37,
   "metadata": {},
   "outputs": [],
   "source": [
    "import numpy as np\n",
    "from data import gen_binary_data\n",
    "from protocols.grr import GRR_Client, GRR_Aggregator_MI, GRR_Aggregator_IBU\n",
    "from sklearn.metrics import mean_squared_error\n",
    "from protocols.L_GRR import L_GRR_Client, L_GRR_Aggregator_MI, L_GRR_Client_Interaction"
   ]
  },
  {
   "cell_type": "code",
   "execution_count": null,
   "metadata": {},
   "outputs": [],
   "source": []
  },
  {
   "cell_type": "code",
   "execution_count": 38,
   "metadata": {},
   "outputs": [
    {
     "name": "stdout",
     "output_type": "stream",
     "text": [
      "[0.70389 0.29611]\n",
      "Estimated frequency at seed: 0, epsilon: 0.5, ==> [0.69533015 0.30466985]\n",
      "Estimated frequency at seed: 1, epsilon: 0.5, ==> [0.70157713 0.29842287]\n",
      "Estimated frequency at seed: 2, epsilon: 0.5, ==> [0.71382609 0.28617391]\n",
      "Estimated frequency at seed: 3, epsilon: 0.5, ==> [0.70851821 0.29148179]\n",
      "Estimated frequency at seed: 4, epsilon: 0.5, ==> [0.70794659 0.29205341]\n",
      "Estimated frequency at seed: 5, epsilon: 0.5, ==> [0.70708916 0.29291084]\n",
      "Estimated frequency at seed: 6, epsilon: 0.5, ==> [0.69353364 0.30646636]\n",
      "Estimated frequency at seed: 7, epsilon: 0.5, ==> [0.70925314 0.29074686]\n",
      "Estimated frequency at seed: 8, epsilon: 0.5, ==> [0.70831406 0.29168594]\n",
      "Estimated frequency at seed: 9, epsilon: 0.5, ==> [0.70647671 0.29352329]\n",
      "Average estimated: [0.70518649 0.29481351]\n"
     ]
    }
   ],
   "source": [
    "n = 100000\n",
    "data = gen_binary_data(n=n, one_prob=0.3)\n",
    "k = 2\n",
    "eps = [0.2, 0.5, 0.9]\n",
    "num_seed = 10\n",
    "real_freq = np.unique(data, return_counts=True)[-1] / n\n",
    "dic_mse = {seed: {\n",
    "    \"GRR\": []\n",
    "} for seed in range(num_seed)}\n",
    "print(real_freq)\n",
    "for seed in range(num_seed):\n",
    "    ep = eps[1]\n",
    "    grr_reports = [GRR_Client(input_data, k, ep) for input_data in data['v']]\n",
    "    grr_est_freq = GRR_Aggregator_IBU(grr_reports, k, ep)\n",
    "    print(f'Estimated frequency at seed: {seed}, epsilon: {ep}, ==> {grr_est_freq}')\n",
    "\n",
    "    dic_mse[seed][\"GRR\"].append(grr_est_freq)\n",
    "est_freq = np.mean([dic_mse[i]['GRR'] for i in range(num_seed)], axis=0)[0]\n",
    "print(f'Average estimated: {est_freq}')"
   ]
  },
  {
   "cell_type": "code",
   "execution_count": 39,
   "metadata": {},
   "outputs": [
    {
     "name": "stdout",
     "output_type": "stream",
     "text": [
      "p: 0.6224593312018546, q: 0.3775406687981454\n"
     ]
    }
   ],
   "source": [
    "freqs = []\n",
    "k=2\n",
    "p = np.exp(eps[1]) / (np.exp(eps[1]) + k - 1)\n",
    "q = (1 - p) / (k - 1)\n",
    "print(f'p: {p}, q: {q}')\n",
    "for seed in range(num_seed):\n",
    "    ep = eps[1]\n",
    "    grr_reports = [GRR_Client(input_data, k, ep) for input_data in data['v']]\n",
    "\n",
    "    count_0 = 0\n",
    "    n = len(grr_reports)\n",
    "    for i in range(n):\n",
    "        pb0 = est_freq[0]\n",
    "        pb1 = est_freq[1]\n",
    "\n",
    "        if grr_reports[i] == 0:\n",
    "            numerator = p * pb0\n",
    "            denominator = numerator + (q * pb1)\n",
    "            # print(numerator, denominator)\n",
    "            count_0 += np.random.binomial(1, numerator/denominator)\n",
    "\n",
    "        if grr_reports[i] == 1:\n",
    "            numerator = q * pb0\n",
    "            denominator = numerator + (p * pb1)\n",
    "            # print(numerator, denominator)\n",
    "            count_0 += np.random.binomial(1, numerator/denominator)\n",
    "    \n",
    "    freqs.append(np.array([count_0, n-count_0])/np.sum(np.array([count_0, n-count_0])))\n",
    "\n",
    "    \n"
   ]
  },
  {
   "cell_type": "code",
   "execution_count": 40,
   "metadata": {},
   "outputs": [
    {
     "data": {
      "text/plain": [
       "array([0.705217, 0.294783])"
      ]
     },
     "execution_count": 40,
     "metadata": {},
     "output_type": "execute_result"
    }
   ],
   "source": [
    "np.average(freqs, axis=0)"
   ]
  },
  {
   "cell_type": "code",
   "execution_count": 4,
   "metadata": {},
   "outputs": [
    {
     "name": "stdout",
     "output_type": "stream",
     "text": [
      "2.7182818284590455 1.0\n",
      "False\n"
     ]
    }
   ],
   "source": [
    "import numpy as np\n",
    "\n",
    "eps = 2\n",
    "eps1 = 1\n",
    "\n",
    "def get_ps(eps):\n",
    "    p = np.exp(eps)/(np.exp(eps) + 1)\n",
    "    q = 1 - p\n",
    "    return p,q\n",
    "\n",
    "ps, qs = get_ps(eps)\n",
    "p1, q1 = get_ps(eps1)\n",
    "\n",
    "first = p1/q1\n",
    "second = (ps * p1 + (1-ps)*(1-p1))/ (1-ps-p1+2*p1*ps)\n",
    "print(first, second)\n",
    "\n",
    "print(first+second < 2 * second)\n"
   ]
  },
  {
   "cell_type": "code",
   "execution_count": 5,
   "metadata": {},
   "outputs": [
    {
     "data": {
      "text/plain": [
       "0.74"
      ]
     },
     "execution_count": 5,
     "metadata": {},
     "output_type": "execute_result"
    }
   ],
   "source": [
    "0.7 * 0.8 + 0.6 * 0.3"
   ]
  },
  {
   "cell_type": "code",
   "execution_count": 6,
   "metadata": {},
   "outputs": [
    {
     "name": "stdout",
     "output_type": "stream",
     "text": [
      "(2,) (2, 2) (2, 2, 2)\n"
     ]
    }
   ],
   "source": [
    "pb = np.array([0.7, 0.3])\n",
    "pbstarb = np.array([[1, 2],[3, 4]])\n",
    "pbb = np.array([\n",
    "    [[5, 6], [7, 8]],\n",
    "])\n",
    "\n",
    "user = np.array([0])\n",
    "\n",
    "print(pb.shape, pbstarb.shape, pbb.shape)\n",
    "\n",
    "numerator = np.prod(pb[0], pbstarb[0][0], user[0][0]) +  np.prod(pb[0], pbstarb[1][0], user[0][0])\n",
    "\n",
    "\n",
    "pbb = np.array([\n",
    "    [[5, 6], [7, 8]],\n",
    "    [[9, 10], [11, 12]]\n",
    "])\n"
   ]
  },
  {
   "cell_type": "code",
   "execution_count": 60,
   "metadata": {},
   "outputs": [
    {
     "name": "stdout",
     "output_type": "stream",
     "text": [
      "PBB: [[[ 5  6]\n",
      "  [ 7  8]]\n",
      "\n",
      " [[ 9 10]\n",
      "  [11 12]]]\n",
      "_______\n",
      "A: [ 6 12]\n",
      "****\n",
      "72\n"
     ]
    }
   ],
   "source": [
    "pbb = np.array([\n",
    "    [[5, 6], [7, 8]],\n",
    "    [[9, 10], [11, 12]]\n",
    "]\n",
    ")\n",
    "print(f'PBB: {pbb}')\n",
    "print('_______')\n",
    "user = np.array([0,1])\n",
    "\n",
    "a = pbb[np.arange(len(pbb)),user][:,1]\n",
    "\n",
    "print(f'A: {a}')\n",
    "print('****')\n",
    "print(np.prod(a))\n"
   ]
  },
  {
   "cell_type": "code",
   "execution_count": 52,
   "metadata": {},
   "outputs": [
    {
     "data": {
      "text/plain": [
       "(2, 2)"
      ]
     },
     "execution_count": 52,
     "metadata": {},
     "output_type": "execute_result"
    }
   ],
   "source": [
    "pbb[0].shape"
   ]
  },
  {
   "cell_type": "code",
   "execution_count": 53,
   "metadata": {},
   "outputs": [
    {
     "name": "stdout",
     "output_type": "stream",
     "text": [
      "[array([5, 6]), array([11, 12])]\n"
     ]
    }
   ],
   "source": [
    "pbb = np.array([\n",
    "    [[5, 6], [7, 8]],\n",
    "    [[9, 10], [11, 12]]\n",
    "    \n",
    "]\n",
    ")\n",
    "\n",
    "user = np.array([0,1])\n",
    "\n",
    "a = []\n",
    "for i in range(0, len(pbb)):\n",
    "    a.append(pbb[i][user[i]])\n",
    "\n",
    "print(a)"
   ]
  },
  {
   "cell_type": "code",
   "execution_count": 71,
   "metadata": {},
   "outputs": [
    {
     "data": {
      "text/plain": [
       "0.6137172436104821"
      ]
     },
     "execution_count": 71,
     "metadata": {},
     "output_type": "execute_result"
    }
   ],
   "source": [
    "pb = np.array([0.7, 0.3])\n",
    "pbstarb = np.array([[1, 2],[3, 4]])\n",
    "pbb = pbb = np.array([\n",
    "    [[5, 6], [7, 8]],\n",
    "    [[9, 10], [11, 12]]\n",
    "    ])\n",
    "user = np.array([0,1])\n",
    "\n",
    "numerator = pb[0]*pbstarb[0][0]* np.prod(pbb[np.arange(len(pbb)),user][:,0])  + pb[0]*pbstarb[1][0] * np.prod(pbb[np.arange(len(pbb)),user][:,1])\n",
    "d_b_0 = numerator\n",
    "d_b_1 = pb[1] * pbstarb[0][1] * np.prod(pbb[np.arange(len(pbb)),user][:,0]) + pb[1] * pbstarb[1][1] * np.prod(pbb[np.arange(len(pbb)),user][:,1])\n",
    "\n",
    "denominator = d_b_0 + d_b_1\n",
    "\n",
    "numerator / denominator\n",
    "\n"
   ]
  },
  {
   "cell_type": "markdown",
   "metadata": {},
   "source": []
  },
  {
   "cell_type": "code",
   "execution_count": 74,
   "metadata": {},
   "outputs": [
    {
     "data": {
      "text/plain": [
       "0.6137172436104821"
      ]
     },
     "execution_count": 74,
     "metadata": {},
     "output_type": "execute_result"
    }
   ],
   "source": [
    "num = 0.7 * 1 * 5 * 11 + 0.7 * 3 * 6 * 12\n",
    "den = num + (  0.3 * 2 * 5 * 11 + 0.3 * 4 * 6 * 12  )\n",
    "num/den\n"
   ]
  },
  {
   "cell_type": "code",
   "execution_count": 66,
   "metadata": {},
   "outputs": [
    {
     "data": {
      "text/plain": [
       "113.39999999999999"
      ]
     },
     "execution_count": 66,
     "metadata": {},
     "output_type": "execute_result"
    }
   ],
   "source": [
    "(  0.3 * 2 * 5 * 9 + 0.3 * 4 * 6 * 12  )"
   ]
  },
  {
   "cell_type": "code",
   "execution_count": 39,
   "metadata": {},
   "outputs": [
    {
     "name": "stdout",
     "output_type": "stream",
     "text": [
      "(1, 2, 2)\n",
      "(1, 2, 2)\n",
      "[[[ 5  6]\n",
      "  [ 7  8]]\n",
      "\n",
      " [[ 9 10]\n",
      "  [11 12]]] (2, 2, 2)\n",
      "[[[ 5  6]\n",
      "  [ 7  8]]\n",
      "\n",
      " [[ 9 10]\n",
      "  [11 12]]\n",
      "\n",
      " [[ 9 10]\n",
      "  [11 12]]] (3, 2, 2)\n"
     ]
    }
   ],
   "source": [
    "pbb = np.array([\n",
    "    [[5, 6], [7, 8]],\n",
    "])\n",
    "print(pbb.shape)\n",
    "new_array = np.array([[[9, 10], [11, 12]]])\n",
    "print(new_array.shape)\n",
    "pbb = np.vstack((pbb, new_array))\n",
    "print(pbb, pbb.shape)\n",
    "pbb = np.vstack((pbb, new_array))\n",
    "print(pbb, pbb.shape)\n"
   ]
  },
  {
   "cell_type": "code",
   "execution_count": 41,
   "metadata": {},
   "outputs": [
    {
     "data": {
      "text/plain": [
       "array([[[1., 1.],\n",
       "        [1., 1.]]])"
      ]
     },
     "execution_count": 41,
     "metadata": {},
     "output_type": "execute_result"
    }
   ],
   "source": [
    "p_b_bstar = np.array([np.ones((2,2))])\n",
    "p_b_bstar"
   ]
  },
  {
   "cell_type": "code",
   "execution_count": 58,
   "metadata": {},
   "outputs": [
    {
     "data": {
      "text/plain": [
       "1"
      ]
     },
     "execution_count": 58,
     "metadata": {},
     "output_type": "execute_result"
    }
   ],
   "source": [
    "np.random.binomial(1, 0.9)"
   ]
  },
  {
   "cell_type": "code",
   "execution_count": 7,
   "metadata": {},
   "outputs": [
    {
     "data": {
      "text/plain": [
       "1.1600000000000001"
      ]
     },
     "execution_count": 7,
     "metadata": {},
     "output_type": "execute_result"
    }
   ],
   "source": [
    "0.6 * 2.6 - 0.4"
   ]
  },
  {
   "cell_type": "code",
   "execution_count": 35,
   "metadata": {},
   "outputs": [
    {
     "data": {
      "text/plain": [
       "1.243746262157857"
      ]
     },
     "execution_count": 35,
     "metadata": {},
     "output_type": "execute_result"
    }
   ],
   "source": [
    "eps_perm = 2.6\n",
    "e1 = 0.38\n",
    "epsilons = np.array([[2.6, e1], [0.8, e1], [0.8, e1], [0.8, e1]])\n",
    "\n",
    "# epsilons[:,1]\n",
    "total_loss_minority = np.log((np.exp(eps_perm + epsilons[:,1].sum()) + 1) / (np.exp(eps_perm) + np.exp(epsilons[:,1].sum())))\n",
    "total_loss_minority"
   ]
  },
  {
   "cell_type": "code",
   "execution_count": 14,
   "metadata": {},
   "outputs": [
    {
     "data": {
      "text/plain": [
       "0.38666666666666666"
      ]
     },
     "execution_count": 14,
     "metadata": {},
     "output_type": "execute_result"
    }
   ],
   "source": [
    "1.16/3"
   ]
  },
  {
   "cell_type": "code",
   "execution_count": 36,
   "metadata": {},
   "outputs": [
    {
     "data": {
      "text/plain": [
       "1.243746262157857"
      ]
     },
     "execution_count": 36,
     "metadata": {},
     "output_type": "execute_result"
    }
   ],
   "source": [
    "eps_perm = 2.6\n",
    "e1 = 1.52\n",
    "epsilons = np.array([[2.6, e1]])\n",
    "\n",
    "# epsilons[:,1]\n",
    "total_loss_single = np.log((np.exp(eps_perm + epsilons[:,1].sum()) + 1) / (np.exp(eps_perm) + np.exp(epsilons[:,1].sum())))\n",
    "total_loss_single"
   ]
  },
  {
   "cell_type": "code",
   "execution_count": 44,
   "metadata": {},
   "outputs": [
    {
     "name": "stdout",
     "output_type": "stream",
     "text": [
      "1.243746262157857 1.243746262157857\n"
     ]
    }
   ],
   "source": [
    "eps_inf = 2.6\n",
    "e1 = 0.38\n",
    "our_epsilons = np.array([[2.6, e1], [0.8, e1], [0.8, e1], [0.8, e1]])\n",
    "\n",
    "sota_epsilons = [[eps_inf, 1.52]]\n",
    "\n",
    "our_mechanism_total_loss_for_minority = np.log((np.exp(eps_inf + our_epsilons[:,1].sum()) + 1) / (np.exp(eps_inf) + np.exp(our_epsilons[:,1].sum())))\n",
    "sota_mechanism_total_loss = np.log((np.exp(eps_inf + 1.52) + 1) / (np.exp(eps_inf) + np.exp(1.52)))\n",
    "print(our_mechanism_total_loss_for_minority, sota_mechanism_total_loss)"
   ]
  },
  {
   "cell_type": "code",
   "execution_count": 36,
   "metadata": {},
   "outputs": [
    {
     "name": "stdout",
     "output_type": "stream",
     "text": [
      "0.962522499702665 1.243746262157857\n"
     ]
    }
   ],
   "source": [
    "eps_inf = 1.5\n",
    "e0 = 1\n",
    "e1 = 0.05\n",
    "our_epsilons = np.array([[2.6, e0], [0.8, e1], [0.8, e1], [0.8, e1]])\n",
    "\n",
    "sotaeps1 = 1.52\n",
    "sota_epsilons = [[eps_inf, sotaeps1]]\n",
    "\n",
    "our_mechanism_total_loss_for_minority = np.log((np.exp(eps_inf + our_epsilons[:,1].sum()) + 1) / (np.exp(eps_inf) + np.exp(our_epsilons[:,1].sum())))\n",
    "sota_mechanism_total_loss = np.log((np.exp(eps_inf + sotaeps1) + 1) / (np.exp(eps_inf) + np.exp(sotaeps1)))\n",
    "print(our_mechanism_total_loss_for_minority, sota_mechanism_total_loss)"
   ]
  },
  {
   "cell_type": "code",
   "execution_count": 15,
   "metadata": {},
   "outputs": [
    {
     "name": "stdout",
     "output_type": "stream",
     "text": [
      "0.6848849182637271 0.12677757555327354\n"
     ]
    }
   ],
   "source": [
    "eps_inf = 1.5\n",
    "e0 = 1\n",
    "e1 = 0.05\n",
    "our_epsilons = np.array([[2.6, e0], [0.8, e1], [0.8, e1], [0.8, e1]])\n",
    "\n",
    "sotaeps1 = 0.2\n",
    "sota_epsilons = [[eps_inf, sotaeps1]]\n",
    "\n",
    "our_mechanism_total_loss_for_minority = np.log((np.exp(eps_inf + our_epsilons[:,1].sum()) + 1) / (np.exp(eps_inf) + np.exp(our_epsilons[:,1].sum())))\n",
    "sota_mechanism_total_loss = np.log((np.exp(eps_inf + sotaeps1) + 1) / (np.exp(eps_inf) + np.exp(sotaeps1)))\n",
    "print(our_mechanism_total_loss_for_minority, sota_mechanism_total_loss)"
   ]
  },
  {
   "cell_type": "code",
   "execution_count": 1,
   "metadata": {},
   "outputs": [
    {
     "data": {
      "text/plain": [
       "0.6798508598987916"
      ]
     },
     "execution_count": 1,
     "metadata": {},
     "output_type": "execute_result"
    }
   ],
   "source": [
    "import numpy as np\n",
    "eps_inf = 2.6\n",
    "e0 = 0.8\n",
    "our_epsilons = np.array([[2.6, e0]])\n",
    "                        \n",
    "np.log((np.exp(eps_inf + our_epsilons[:,1].sum()) + 1) / (np.exp(eps_inf) + np.exp(our_epsilons[:,1].sum())))"
   ]
  },
  {
   "cell_type": "code",
   "execution_count": 66,
   "metadata": {},
   "outputs": [
    {
     "data": {
      "text/plain": [
       "1.243746262157857"
      ]
     },
     "execution_count": 66,
     "metadata": {},
     "output_type": "execute_result"
    }
   ],
   "source": [
    "np.log((np.exp(eps_inf+4*e1)+1)/(np.exp(eps_inf)+np.exp(4*e1)))"
   ]
  },
  {
   "cell_type": "code",
   "execution_count": null,
   "metadata": {},
   "outputs": [
    {
     "data": {
      "text/plain": [
       "(0.04083813840428816, 0.014511287698639064)"
      ]
     },
     "execution_count": 117,
     "metadata": {},
     "output_type": "execute_result"
    }
   ],
   "source": [
    "eps_inf = 2.6 \n",
    "e1 = 0.8\n",
    "a = np.exp(eps_inf) + np.exp(3*e1)\n",
    "b = np.exp(eps_inf + (2 * e1)) + np.exp(e1)\n",
    "\n",
    "1/a , 1/b"
   ]
  },
  {
   "cell_type": "code",
   "execution_count": 105,
   "metadata": {},
   "outputs": [
    {
     "data": {
      "text/plain": [
       "1.0956448738559574"
      ]
     },
     "execution_count": 105,
     "metadata": {},
     "output_type": "execute_result"
    }
   ],
   "source": [
    "# find e1 from epsilon_\\infty and total epsilon\n",
    "total = 0.8\n",
    "times = 1\n",
    "\n",
    "eps_inf = 2\n",
    "np.log((1-np.exp(total+eps_inf))/(np.exp(total)-np.exp(eps_inf))) * 1/times"
   ]
  },
  {
   "cell_type": "code",
   "execution_count": 29,
   "metadata": {},
   "outputs": [
    {
     "data": {
      "text/plain": [
       "0.52"
      ]
     },
     "execution_count": 29,
     "metadata": {},
     "output_type": "execute_result"
    }
   ],
   "source": [
    "import numpy as np\n",
    "total = 1.243746262157857\n",
    "times = 2\n",
    "e0 = 1\n",
    "eps_inf = 2.6 \n",
    "( np.log((1-np.exp(total+eps_inf))/(np.exp(total)-np.exp(eps_inf))) - e0) * 1/(times-1)"
   ]
  },
  {
   "cell_type": "code",
   "execution_count": 110,
   "metadata": {},
   "outputs": [
    {
     "data": {
      "image/png": "[encoded data removed]",
      "text/plain": [
       "<Figure size 640x480 with 1 Axes>"
      ]
     },
     "metadata": {},
     "output_type": "display_data"
    }
   ],
   "source": [
    "import matplotlib.pyplot as plt\n",
    "\n",
    "# Define array a and value v\n",
    "a = [5, 4, 3, 2, 1]\n",
    "v = 3.5\n",
    "\n",
    "# Plot the line based on array a\n",
    "plt.plot(range(1,len(a)+1), a, marker='o', color='blue', label=f'{a[-1]}')\n",
    "\n",
    "# Mark a star where y-axis corresponds to v\n",
    "# Mark a star where y-axis corresponds to v\n",
    "plt.scatter(1, v, color='blue', marker='*', s=200, label='Star')\n",
    "\n",
    "\n",
    "# Add labels and legend\n",
    "plt.xlabel('Index')\n",
    "plt.ylabel('Values')\n",
    "plt.title('Line with Star Marker')\n",
    "plt.legend()\n",
    "\n",
    "# Show the plot\n",
    "plt.grid(True)\n",
    "plt.show()"
   ]
  },
  {
   "cell_type": "code",
   "execution_count": 26,
   "metadata": {},
   "outputs": [
    {
     "data": {
      "text/plain": [
       "1.243746262157857"
      ]
     },
     "execution_count": 26,
     "metadata": {},
     "output_type": "execute_result"
    }
   ],
   "source": [
    "np.log(  (np.exp(2.6+1.52) + 1)/(np.exp(2.6)+ np.exp(1.52))    )"
   ]
  },
  {
   "cell_type": "code",
   "execution_count": 31,
   "metadata": {},
   "outputs": [
    {
     "name": "stdout",
     "output_type": "stream",
     "text": [
      "length: 199999\n",
      "total below alpha 99\n",
      "total above alpha 199899\n"
     ]
    },
    {
     "data": {
      "text/plain": [
       "[<matplotlib.lines.Line2D at 0x7f5a479ea520>]"
      ]
     },
     "execution_count": 31,
     "metadata": {},
     "output_type": "execute_result"
    },
    {
     "data": {
      "image/png": "[encoded data removed]",
      "text/plain": [
       "<Figure size 640x480 with 1 Axes>"
      ]
     },
     "metadata": {},
     "output_type": "display_data"
    }
   ],
   "source": [
    "import numpy as np\n",
    "import matplotlib.pyplot as plt\n",
    "last = 2\n",
    "d = np.arange(0.00001, last, 0.00001)\n",
    "\n",
    "print(f'length: {len(d)}')\n",
    "alpha = 0.001\n",
    "print(f'total below alpha {len(d[d<alpha])}')\n",
    "print(f'total above alpha {len(d[d>alpha])}')\n",
    "\n",
    "def func(diff):\n",
    "    \n",
    "    k1 = 1\n",
    "    k2 = 1\n",
    "    k3 = 2\n",
    "    if diff < alpha:\n",
    "        return k1 * np.exp(diff)\n",
    "    else:\n",
    "        return k2 * np.exp(k3* diff)\n",
    "r = [func(i) for i in d]\n",
    "\n",
    "\n",
    "plt.plot(d,r)"
   ]
  },
  {
   "cell_type": "code",
   "execution_count": 32,
   "metadata": {},
   "outputs": [
    {
     "data": {
      "text/plain": [
       "array([0, 1])"
      ]
     },
     "execution_count": 32,
     "metadata": {},
     "output_type": "execute_result"
    }
   ],
   "source": [
    "np.arange(2)"
   ]
  },
  {
   "cell_type": "code",
   "execution_count": 14,
   "metadata": {},
   "outputs": [],
   "source": [
    "import logging\n",
    "import os\n",
    "main_folder = 'yot'\n",
    "\n",
    "if not os.path.exists(main_folder):\n",
    "    os.makedirs(main_folder)\n",
    "\n",
    "log_file = os.path.join(main_folder, 'errors.log')\n",
    "\n",
    "\n",
    "logging.basicConfig(filename=log_file, level=logging.INFO)\n",
    "\n",
    "logging.info('hehedd')"
   ]
  },
  {
   "cell_type": "code",
   "execution_count": 72,
   "metadata": {},
   "outputs": [
    {
     "name": "stdout",
     "output_type": "stream",
     "text": [
      "[[0.0, 1.046667870939891e-06, 0.0, 2.565695781700385e-06, 0.0, 3.1814897480686186e-06, 0.0, 3.0960403950704327e-06], [0.0, 1.0139054552793086e-06, 0.0, 3.5590307500390415e-06, 0.0, 2.9898073531283963e-06, 0.0, 0.003947510462063113], [0.0, 1.0005728437580719e-06, 0.0, 2.5516840352997674e-06, 0.0, 3.144883272283311e-06, 0.0, 3.880096418474345e-06], [0.0, 1.06629072142527e-06, 0.0, 2.4979475445303933e-06, 0.0, 2.5804441924805312e-06, 0.0, 3.059201739711803e-06], [0.0, 1.0363289723407486e-06, 0.0, 3.7221036377103607e-06, 0.0, 2.9898408962959663e-06, 0.0, 2.0437897963464035e-06], [0.0, 1.144237507605411e-06, 0.0, 2.201565021105841e-06, 0.0, 3.530402422659422e-06, 0.0, 3.257500745686459e-06], [0.0, 9.275584594959692e-07, 0.0, 3.7698773984178296e-06, 0.0, 3.913508884754092e-06, 0.0, 0.004515782512925367], [0.0, 1.146071865103685e-06, 0.0, 3.825682697500413e-06, 0.0, 4.058942513239584e-06, 0.0, 3.138975823412445e-06], [0.0, 8.961715894215289e-07, 0.0, 2.54464201696011e-06, 0.0, 5.0796903660054064e-06, 0.0, 0.004953500345372627], [0.0, 1.2158777559564905e-06, 0.0, 3.121733962428133e-06, 0.0, 3.6676643764922875e-06, 0.0, 5.194102491745881e-06], [0.0, 6.883620530136876e-07, 0.0, 4.569095159333393e-06, 0.0, 3.475649301138864e-06, 0.0, 0.0020025080984584914], [0.0, 7.861854677996338e-07, 0.0, 3.5465851127646597e-06, 0.0, 5.271702738425659e-06, 0.0, 3.911787985318336e-06], [0.0, 1.2280211837430889e-06, 0.0, 3.218454707770797e-06, 0.0, 4.6303442824028276e-06, 0.0, 5.6172229403114514e-06], [0.0, 1.3578174816041102e-06, 0.0, 2.166986946991371e-06, 0.0, 3.5387882812769646e-06, 0.0, 3.2509778806213513e-06], [0.0, 8.8596875195495e-07, 0.0, 4.351475932718935e-06, 0.0, 2.9869402569550915e-06, 0.0, 3.4784896152360587e-06], [0.0, 9.679405062950655e-07, 0.0, 3.6598914922283706e-06, 0.0, 4.745075150383102e-06, 0.0, 3.935112619494183e-06], [0.0, 8.182118439656439e-07, 0.0, 2.9298048864638675e-06, 0.0, 4.50411353316663e-06, 0.0, 4.948700147967578e-06], [0.0, 9.562444416822766e-07, 0.0, 4.009059476695881e-06, 0.0, 2.7095396908207913e-06, 0.0, 2.8470141403332495e-06], [0.0, 1.152634697377149e-06, 0.0, 3.0622055877667746e-06, 0.0, 4.000176707067013e-06, 0.0, 3.987363205149655e-06], [0.0, 1.448998387003548e-06, 0.0, 4.05124483224371e-06, 0.0, 3.847252201549427e-06, 0.0, 4.626314456398488e-06], [0.0, 9.228086817855818e-07, 0.0, 2.4142658545739003e-06, 0.0, 1.8729672236312347e-06, 0.0, 3.4642005795006946e-06], [0.0, 9.247256430623986e-07, 0.0, 4.638948013871988e-06, 0.0, 3.2371316318351728e-06, 0.0, 3.6188643711607836e-06], [0.0, 7.328885955153314e-07, 0.0, 2.827182230622422e-06, 0.0, 4.618100248550525e-06, 0.0, 3.208540316623196e-06], [0.0, 1.4587784285307667e-06, 0.0, 3.310571141026693e-06, 0.0, 3.3279150908939216e-06, 0.0, 4.165416016650995e-06], [0.0, 1.045414250110573e-06, 0.0, 2.936228712632773e-06, 0.0, 4.018951011200322e-06, 0.0, 3.3530189620628146e-06], [0.0, 9.141794252732361e-07, 0.0, 4.473168475473386e-06, 0.0, 2.1821649952659495e-06, 0.0, 3.129083308571426e-06], [0.0, 1.558837103059599e-06, 0.0, 3.3841896754219457e-06, 0.0, 4.2580755345325825e-06, 0.0, 2.43334143572642e-06], [0.0, 1.040393098722912e-06, 0.0, 3.2905907819552425e-06, 0.0, 3.4064222504054325e-06, 0.0, 5.336180260362832e-06], [0.0, 6.932157844053507e-07, 0.0, 5.640805327551611e-06, 0.0, 3.6061195064729335e-06, 0.0, 5.1953353241405286e-06], [0.0, 9.71439964880019e-07, 0.0, 3.4508995553742395e-06, 0.0, 3.5767931552742545e-06, 0.0, 5.577247157978925e-06], [0.0, 1.5725827662681384e-06, 0.0, 3.188983805923559e-06, 0.0, 4.572023636833244e-06, 0.0, 2.4833107478178392e-06], [0.0, 5.824793834541782e-07, 0.0, 2.8601426899432374e-06, 0.0, 2.7017631985869445e-06, 0.0, 4.316909798359299e-06], [0.0, 1.0839946458417848e-06, 0.0, 2.9264565799689028e-06, 0.0, 4.472748382611825e-06, 0.0, 0.0018346637423561553], [0.0, 1.1707816169774308e-06, 0.0, 2.222249024554809e-06, 0.0, 3.115082432908212e-06, 0.0, 3.989501904170203e-06], [0.0, 7.338568336456465e-07, 0.0, 2.3850694818398505e-06, 0.0, 3.6916306215554956e-06, 0.0, 3.29733690982488e-06], [0.0, 9.882306759659004e-07, 0.0, 2.357632139786987e-06, 0.0, 4.320402542567086e-06, 0.0, 3.142618679044927e-06], [0.0, 8.582371495330726e-07, 0.0, 2.9961895440224336e-06, 0.0, 3.769877258975993e-06, 0.0, 3.5853308399363013e-06], [0.0, 9.500111808049682e-07, 0.0, 2.3449418594587066e-06, 0.0, 3.0599148702335796e-06, 0.0, 4.355470095719312e-06], [0.0, 7.982415385678868e-07, 0.0, 4.008684114477191e-06, 0.0, 4.272407652798738e-06, 0.0, 4.077282346749102e-06], [0.0, 9.672198641230727e-07, 0.0, 3.284351768658454e-06, 0.0, 3.6607150718411813e-06, 0.0, 6.08218800769394e-06]]\n",
      "40\n",
      "(40, 8)\n",
      "(40, 4)\n",
      "[1.01880961e-06 3.27165794e-06 3.66468656e-06 4.34726226e-04]\n",
      "{0.1: '0.0000010', 0.3: '0.0000033', 0.4: '0.0000037', 0.49: '0.0004347'}\n",
      "[0.0002832561420467757, 0.000279616415483092, 0.0004115622438901812, 0.000558673149526153]\n",
      "[0.00025625295076063916, 0.00041819278548130864, 0.00025158537496985863, 0.0005405713442808666]\n",
      "(40, 4)\n",
      "[[0.00028326 0.00027962 0.00041156 0.00055867]\n",
      " [0.00035112 0.00040038 0.00027432 0.00037033]\n",
      " [0.0005217  0.0002731  0.00044309 0.00041352]\n",
      " [0.00026479 0.0004143  0.00047025 0.00036384]\n",
      " [0.00026798 0.00039063 0.00032873 0.00053976]\n",
      " [0.00027256 0.00040793 0.00032388 0.00043877]\n",
      " [0.00035915 0.00055719 0.00027847 0.00028872]\n",
      " [0.00032657 0.00037457 0.00045772 0.00037033]\n",
      " [0.00040819 0.00034578 0.00039907 0.00042739]\n",
      " [0.00036338 0.00022159 0.0002665  0.00046204]\n",
      " [0.00040808 0.00036276 0.00046184 0.00033084]\n",
      " [0.0004709  0.00038884 0.00044232 0.0004317 ]\n",
      " [0.00053311 0.00037885 0.00034387 0.0003968 ]\n",
      " [0.00025167 0.00037248 0.00058171 0.00040159]\n",
      " [0.00053212 0.00043777 0.00062992 0.00025977]\n",
      " [0.00043116 0.00042378 0.00056783 0.00026807]\n",
      " [0.00044557 0.00042832 0.00041956 0.00055582]\n",
      " [0.00038279 0.0004013  0.00044359 0.00032401]\n",
      " [0.00043182 0.00046623 0.00032742 0.00034886]\n",
      " [0.00034229 0.00030369 0.00022481 0.00033025]\n",
      " [0.00040582 0.00075483 0.00041468 0.00041132]\n",
      " [0.00061775 0.00059457 0.0003522  0.00053402]\n",
      " [0.00027835 0.0004016  0.00021467 0.0003393 ]\n",
      " [0.00028166 0.00043272 0.00052519 0.00027244]\n",
      " [0.00033521 0.00043721 0.00054339 0.00043417]\n",
      " [0.00021209 0.00025879 0.00048895 0.00035386]\n",
      " [0.00030161 0.0003238  0.00035404 0.00026428]\n",
      " [0.0002728  0.00044539 0.00046924 0.0003599 ]\n",
      " [0.0003855  0.00043812 0.00051391 0.00044293]\n",
      " [0.00041312 0.0003131  0.0003458  0.00040939]\n",
      " [0.00033575 0.00052663 0.0004336  0.00038766]\n",
      " [0.00030897 0.00038825 0.0003198  0.0002721 ]\n",
      " [0.00038143 0.00035368 0.00037975 0.00037745]\n",
      " [0.00022913 0.00051039 0.00030607 0.00046208]\n",
      " [0.00034919 0.0003873  0.00040409 0.00048848]\n",
      " [0.00029302 0.00031391 0.00036433 0.00033789]\n",
      " [0.00037489 0.00032264 0.00027959 0.00041674]\n",
      " [0.00040166 0.00031429 0.00029399 0.0005064 ]\n",
      " [0.00032204 0.00045855 0.00038678 0.00033651]\n",
      " [0.00025625 0.00041819 0.00025159 0.00054057]]\n",
      "{0.1: '0.0003601', 0.3: '0.0004006', 0.4: '0.0003935', 0.49: '0.0003957'}\n"
     ]
    }
   ],
   "source": [
    "import json\n",
    "def parse_baseline_errors_temp(file):\n",
    "    i = 1\n",
    "    f = open(file)\n",
    "    array_in_string = []\n",
    "    for line in f.readlines():\n",
    "        if i % 4 == 0 :\n",
    "            array_in_string.append(json.loads(line.split(':')[2]))\n",
    "        i += 1\n",
    "    print(array_in_string)\n",
    "    print(len(array_in_string))\n",
    "    np_array = np.array(array_in_string)\n",
    "    print(np.shape(np_array))\n",
    "    np_array = np.delete(np_array, [0,2,4,6], axis=1)\n",
    "    print(np.shape(np_array))\n",
    "    minority_probs = [0.1, 0.3, 0.4, 0.49]\n",
    "    average_errors = np.average(np_array, axis=0)\n",
    "    print(average_errors)\n",
    "    minority_error = {minority_probs[i]: f'{average_errors[i]:.7f}' for i in range(len(minority_probs))}\n",
    "    print(minority_error)\n",
    "    return minority_error\n",
    "\n",
    "\n",
    "def parse_lgrr_errors_temp(file):\n",
    "    i = 1\n",
    "    f = open(file)\n",
    "    array_in_string = []\n",
    "    for line in f.readlines():\n",
    "        if i < 3:\n",
    "            i += 1\n",
    "            continue\n",
    "        if (i+1) % 4 == 0:\n",
    "            array_in_string.append(json.loads(line.split(':')[2]))\n",
    "        i += 1\n",
    "\n",
    "    np_array = np.array(array_in_string)\n",
    "    print(array_in_string[0])\n",
    "    print(array_in_string[-1])\n",
    "    print(np.shape(np_array))\n",
    "    minority_probs = [0.1, 0.3, 0.4, 0.49]\n",
    "    average_errors = np.average(np_array, axis=0)\n",
    "    minority_error = {minority_probs[i]: f'{average_errors[i]:.7f}' for i in range(len(minority_probs))}\n",
    "    print(np_array)\n",
    "    print(minority_error)\n",
    "    return minority_error\n",
    "file = 'experiment11/errors.log'\n",
    "baseline_errors = parse_baseline_errors_temp(file)\n",
    "lgrr_errors = parse_lgrr_errors_temp(file)    "
   ]
  },
  {
   "cell_type": "code",
   "execution_count": 73,
   "metadata": {},
   "outputs": [
    {
     "data": {
      "text/plain": [
       "{0.1: '0.0000010', 0.3: '0.0000033', 0.4: '0.0000037', 0.49: '0.0004347'}"
      ]
     },
     "execution_count": 73,
     "metadata": {},
     "output_type": "execute_result"
    }
   ],
   "source": [
    "baseline_errors"
   ]
  },
  {
   "cell_type": "code",
   "execution_count": 74,
   "metadata": {},
   "outputs": [
    {
     "data": {
      "text/plain": [
       "{0.1: '0.0003601', 0.3: '0.0004006', 0.4: '0.0003935', 0.49: '0.0003957'}"
      ]
     },
     "execution_count": 74,
     "metadata": {},
     "output_type": "execute_result"
    }
   ],
   "source": [
    "lgrr_errors"
   ]
  },
  {
   "cell_type": "code",
   "execution_count": 83,
   "metadata": {},
   "outputs": [
    {
     "name": "stdout",
     "output_type": "stream",
     "text": [
      "defaultdict(<class 'dict'>, {'0.6': {'2': [34, 234]}})\n"
     ]
    }
   ],
   "source": [
    "import re\n",
    "from collections import defaultdict\n",
    "def parse_errors_based_on_interactions(file):\n",
    "    i = 1\n",
    "    f = open(file)\n",
    "    array_in_string = []\n",
    "    title = 'epsilon0'\n",
    "    hm = defaultdict(dict)\n",
    "    minority_probs = [0.1, 0.3, 0.4, 0.49]\n",
    "    for line in f.readlines():\n",
    "        if title in line:\n",
    "            # Define the patterns for epsilon0 and interactions\n",
    "            epsilon0_pattern = r'epsilon0:\\s*([\\d.]+)'\n",
    "            interactions_pattern = r'interactions:\\s*(\\d+)'\n",
    "\n",
    "            # Search for the patterns in the string\n",
    "            epsilon0_match = re.search(epsilon0_pattern, line)\n",
    "            interactions_match = re.search(interactions_pattern, line)\n",
    "\n",
    "            # Extract the values\n",
    "            epsilon0_value = epsilon0_match.group(1) if epsilon0_match else None\n",
    "            interactions_value = interactions_match.group(1) if interactions_match else None\n",
    "            # print(epsilon0_value, interactions_value)\n",
    "            if interactions_value not in hm[epsilon0_value]:\n",
    "                hm[epsilon0_value][interactions_value] = []\n",
    "        \n",
    "        else:\n",
    "            str_array = json.loads(line.split(':')[2])\n",
    "            if np.array(str_array).ndim == 1: continue\n",
    "            ### figure purpose\n",
    "\n",
    "\n",
    "\n",
    "            ### printing purpose\n",
    "            \n",
    "             \n",
    "\n",
    "\n",
    "\n",
    "\n",
    "hm = parse_errors_based_on_interactions(file)\n",
    "print(hm)\n"
   ]
  },
  {
   "cell_type": "code",
   "execution_count": 84,
   "metadata": {},
   "outputs": [
    {
     "data": {
      "text/plain": [
       "1.1051709180756477"
      ]
     },
     "execution_count": 84,
     "metadata": {},
     "output_type": "execute_result"
    }
   ],
   "source": [
    "np.exp(0.1)"
   ]
  },
  {
   "cell_type": "code",
   "execution_count": 103,
   "metadata": {},
   "outputs": [
    {
     "name": "stdout",
     "output_type": "stream",
     "text": [
      "0.01111111111111112\n",
      "[ 1.11111111 10.        ]\n"
     ]
    }
   ],
   "source": [
    "a = np.array([0.9,0.1])\n",
    "b = np.array([0.89, 0.11])\n",
    "\n",
    "print(abs(0.89-0.9)/0.9)\n",
    "\n",
    "print((abs(b-a)/a) * 100)"
   ]
  },
  {
   "cell_type": "code",
   "execution_count": 88,
   "metadata": {},
   "outputs": [
    {
     "data": {
      "text/plain": [
       "array([0.897, 0.103])"
      ]
     },
     "execution_count": 88,
     "metadata": {},
     "output_type": "execute_result"
    }
   ],
   "source": [
    "c = np.array([[0.9,0.1],[0.89, 0.11]])\n",
    "d = np.array([0.7,0.3])\n",
    "\n",
    "np.dot(d,c)"
   ]
  },
  {
   "cell_type": "code",
   "execution_count": 89,
   "metadata": {},
   "outputs": [
    {
     "data": {
      "text/plain": [
       "array([[0.9 , 0.1 ],\n",
       "       [0.89, 0.11]])"
      ]
     },
     "execution_count": 89,
     "metadata": {},
     "output_type": "execute_result"
    }
   ],
   "source": [
    "np.array([a,b])"
   ]
  },
  {
   "cell_type": "code",
   "execution_count": 90,
   "metadata": {},
   "outputs": [
    {
     "data": {
      "text/plain": [
       "array([[0.9 , 0.1 ],\n",
       "       [0.89, 0.11]])"
      ]
     },
     "execution_count": 90,
     "metadata": {},
     "output_type": "execute_result"
    }
   ],
   "source": [
    "c"
   ]
  },
  {
   "cell_type": "code",
   "execution_count": 94,
   "metadata": {},
   "outputs": [
    {
     "name": "stdout",
     "output_type": "stream",
     "text": [
      "0.2668319751834157\n",
      "0.03811885359763082\n"
     ]
    }
   ],
   "source": [
    "a= 0.6668319751834157 - 0.4\n",
    "print(a)\n",
    "print(a/7)"
   ]
  },
  {
   "cell_type": "code",
   "execution_count": 132,
   "metadata": {},
   "outputs": [
    {
     "data": {
      "text/plain": [
       "0.549833997312478"
      ]
     },
     "execution_count": 132,
     "metadata": {},
     "output_type": "execute_result"
    }
   ],
   "source": [
    "np.exp(0.2)/(np.exp(0.2)+1)"
   ]
  },
  {
   "cell_type": "code",
   "execution_count": 98,
   "metadata": {},
   "outputs": [
    {
     "data": {
      "text/plain": [
       "0.01"
      ]
     },
     "execution_count": 98,
     "metadata": {},
     "output_type": "execute_result"
    }
   ],
   "source": [
    "0.2/20"
   ]
  },
  {
   "cell_type": "code",
   "execution_count": 104,
   "metadata": {},
   "outputs": [
    {
     "data": {
      "image/png": "[encoded data removed]",
      "text/plain": [
       "<Figure size 640x480 with 1 Axes>"
      ]
     },
     "metadata": {},
     "output_type": "display_data"
    }
   ],
   "source": [
    "import numpy as np\n",
    "from scipy.stats import beta\n",
    "\n",
    "# Prior parameters\n",
    "alpha_prior = 1\n",
    "beta_prior = 1\n",
    "\n",
    "# Data - 7 heads, 3 tails\n",
    "heads = 7\n",
    "tails = 3\n",
    "\n",
    "# Bayesian updating - Compute posterior parameters\n",
    "alpha_posterior = alpha_prior + heads\n",
    "beta_posterior = beta_prior + tails\n",
    "\n",
    "# Generate grid of values for plotting\n",
    "x = np.linspace(0, 1, 1000)\n",
    "\n",
    "# Prior and posterior distributions\n",
    "prior = beta.pdf(x, alpha_prior, beta_prior)\n",
    "posterior = beta.pdf(x, alpha_posterior, beta_posterior)\n",
    "\n",
    "# Plotting\n",
    "import matplotlib.pyplot as plt\n",
    "\n",
    "plt.plot(x, prior, label='Prior (Beta(1, 1))')\n",
    "plt.plot(x, posterior, label='Posterior (After 7 heads, 3 tails)')\n",
    "plt.xlabel('Probability of Success (p)')\n",
    "plt.ylabel('Density')\n",
    "plt.title('Bayesian Update of Coin Flip Probability')\n",
    "plt.legend()\n",
    "plt.show()"
   ]
  },
  {
   "cell_type": "code",
   "execution_count": 126,
   "metadata": {},
   "outputs": [
    {
     "name": "stdout",
     "output_type": "stream",
     "text": [
      "0.12093235200000067\n",
      "[8, 4.8, 2.88, 1.728, 1.0368, 0.62208, 0.37324799999999997, 0.22394879999999998, 0.21499084799999996, 0.12093235200000067] 20.0\n"
     ]
    }
   ],
   "source": [
    "def generate_descending_list(value, first):\n",
    "    result = [first]\n",
    "    current_value = first\n",
    "    remaining = value - first\n",
    "    threshold = 0.1\n",
    "    # Iterate until the current value is greater than 0.6\n",
    "    while True:\n",
    "        current_value *= 0.6  # Decrease the current value by 60%\n",
    "        remaining -= current_value\n",
    "        if current_value + sum(result) > value:\n",
    "            result.append(current_value + remaining)\n",
    "            break\n",
    "        elif current_value < threshold:\n",
    "            result[-1] = result[-1] + current_value\n",
    "            break\n",
    "        result.append(current_value)\n",
    "        \n",
    "        \n",
    "    print(remaining)\n",
    "    if remaining > 0:\n",
    "        result.append(remaining)\n",
    "    return result\n",
    "\n",
    "# Example usage:\n",
    "value = 20\n",
    "first = 8\n",
    "output_list = generate_descending_list(value, first)\n",
    "print(output_list, sum(output_list))\n"
   ]
  },
  {
   "cell_type": "code",
   "execution_count": 111,
   "metadata": {},
   "outputs": [
    {
     "data": {
      "text/plain": [
       "2.88"
      ]
     },
     "execution_count": 111,
     "metadata": {},
     "output_type": "execute_result"
    }
   ],
   "source": [
    "4.8 * 0.6"
   ]
  },
  {
   "cell_type": "code",
   "execution_count": null,
   "metadata": {},
   "outputs": [],
   "source": []
  }
 ],
 "metadata": {
  "kernelspec": {
   "display_name": "Python (whatever you want to call it)",
   "language": "python",
   "name": "priv_tuts"
  },
  "language_info": {
   "codemirror_mode": {
    "name": "ipython",
    "version": 3
   },
   "file_extension": ".py",
   "mimetype": "text/x-python",
   "name": "python",
   "nbconvert_exporter": "python",
   "pygments_lexer": "ipython3",
   "version": "3.8.10"
  }
 },
 "nbformat": 4,
 "nbformat_minor": 2
}
