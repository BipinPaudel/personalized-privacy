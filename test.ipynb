{
 "cells": [
  {
   "cell_type": "code",
   "execution_count": 37,
   "metadata": {},
   "outputs": [],
   "source": [
    "import numpy as np\n",
    "from data import gen_binary_data\n",
    "from protocols.grr import GRR_Client, GRR_Aggregator_MI, GRR_Aggregator_IBU\n",
    "from sklearn.metrics import mean_squared_error\n",
    "from protocols.L_GRR import L_GRR_Client, L_GRR_Aggregator_MI, L_GRR_Client_Interaction"
   ]
  },
  {
   "cell_type": "code",
   "execution_count": null,
   "metadata": {},
   "outputs": [],
   "source": []
  },
  {
   "cell_type": "code",
   "execution_count": 38,
   "metadata": {},
   "outputs": [
    {
     "name": "stdout",
     "output_type": "stream",
     "text": [
      "[0.70389 0.29611]\n",
      "Estimated frequency at seed: 0, epsilon: 0.5, ==> [0.69533015 0.30466985]\n",
      "Estimated frequency at seed: 1, epsilon: 0.5, ==> [0.70157713 0.29842287]\n",
      "Estimated frequency at seed: 2, epsilon: 0.5, ==> [0.71382609 0.28617391]\n",
      "Estimated frequency at seed: 3, epsilon: 0.5, ==> [0.70851821 0.29148179]\n",
      "Estimated frequency at seed: 4, epsilon: 0.5, ==> [0.70794659 0.29205341]\n",
      "Estimated frequency at seed: 5, epsilon: 0.5, ==> [0.70708916 0.29291084]\n",
      "Estimated frequency at seed: 6, epsilon: 0.5, ==> [0.69353364 0.30646636]\n",
      "Estimated frequency at seed: 7, epsilon: 0.5, ==> [0.70925314 0.29074686]\n",
      "Estimated frequency at seed: 8, epsilon: 0.5, ==> [0.70831406 0.29168594]\n",
      "Estimated frequency at seed: 9, epsilon: 0.5, ==> [0.70647671 0.29352329]\n",
      "Average estimated: [0.70518649 0.29481351]\n"
     ]
    }
   ],
   "source": [
    "n = 100000\n",
    "data = gen_binary_data(n=n, one_prob=0.3)\n",
    "k = 2\n",
    "eps = [0.2, 0.5, 0.9]\n",
    "num_seed = 10\n",
    "real_freq = np.unique(data, return_counts=True)[-1] / n\n",
    "dic_mse = {seed: {\n",
    "    \"GRR\": []\n",
    "} for seed in range(num_seed)}\n",
    "print(real_freq)\n",
    "for seed in range(num_seed):\n",
    "    ep = eps[1]\n",
    "    grr_reports = [GRR_Client(input_data, k, ep) for input_data in data['v']]\n",
    "    grr_est_freq = GRR_Aggregator_IBU(grr_reports, k, ep)\n",
    "    print(f'Estimated frequency at seed: {seed}, epsilon: {ep}, ==> {grr_est_freq}')\n",
    "\n",
    "    dic_mse[seed][\"GRR\"].append(grr_est_freq)\n",
    "est_freq = np.mean([dic_mse[i]['GRR'] for i in range(num_seed)], axis=0)[0]\n",
    "print(f'Average estimated: {est_freq}')"
   ]
  },
  {
   "cell_type": "code",
   "execution_count": 39,
   "metadata": {},
   "outputs": [
    {
     "name": "stdout",
     "output_type": "stream",
     "text": [
      "p: 0.6224593312018546, q: 0.3775406687981454\n"
     ]
    }
   ],
   "source": [
    "freqs = []\n",
    "k=2\n",
    "p = np.exp(eps[1]) / (np.exp(eps[1]) + k - 1)\n",
    "q = (1 - p) / (k - 1)\n",
    "print(f'p: {p}, q: {q}')\n",
    "for seed in range(num_seed):\n",
    "    ep = eps[1]\n",
    "    grr_reports = [GRR_Client(input_data, k, ep) for input_data in data['v']]\n",
    "\n",
    "    count_0 = 0\n",
    "    n = len(grr_reports)\n",
    "    for i in range(n):\n",
    "        pb0 = est_freq[0]\n",
    "        pb1 = est_freq[1]\n",
    "\n",
    "        if grr_reports[i] == 0:\n",
    "            numerator = p * pb0\n",
    "            denominator = numerator + (q * pb1)\n",
    "            # print(numerator, denominator)\n",
    "            count_0 += np.random.binomial(1, numerator/denominator)\n",
    "\n",
    "        if grr_reports[i] == 1:\n",
    "            numerator = q * pb0\n",
    "            denominator = numerator + (p * pb1)\n",
    "            # print(numerator, denominator)\n",
    "            count_0 += np.random.binomial(1, numerator/denominator)\n",
    "    \n",
    "    freqs.append(np.array([count_0, n-count_0])/np.sum(np.array([count_0, n-count_0])))\n",
    "\n",
    "    \n"
   ]
  },
  {
   "cell_type": "code",
   "execution_count": 40,
   "metadata": {},
   "outputs": [
    {
     "data": {
      "text/plain": [
       "array([0.705217, 0.294783])"
      ]
     },
     "execution_count": 40,
     "metadata": {},
     "output_type": "execute_result"
    }
   ],
   "source": [
    "np.average(freqs, axis=0)"
   ]
  },
  {
   "cell_type": "code",
   "execution_count": 4,
   "metadata": {},
   "outputs": [
    {
     "name": "stdout",
     "output_type": "stream",
     "text": [
      "2.7182818284590455 1.0\n",
      "False\n"
     ]
    }
   ],
   "source": [
    "import numpy as np\n",
    "\n",
    "eps = 2\n",
    "eps1 = 1\n",
    "\n",
    "def get_ps(eps):\n",
    "    p = np.exp(eps)/(np.exp(eps) + 1)\n",
    "    q = 1 - p\n",
    "    return p,q\n",
    "\n",
    "ps, qs = get_ps(eps)\n",
    "p1, q1 = get_ps(eps1)\n",
    "\n",
    "first = p1/q1\n",
    "second = (ps * p1 + (1-ps)*(1-p1))/ (1-ps-p1+2*p1*ps)\n",
    "print(first, second)\n",
    "\n",
    "print(first+second < 2 * second)\n"
   ]
  },
  {
   "cell_type": "code",
   "execution_count": 5,
   "metadata": {},
   "outputs": [
    {
     "data": {
      "text/plain": [
       "0.74"
      ]
     },
     "execution_count": 5,
     "metadata": {},
     "output_type": "execute_result"
    }
   ],
   "source": [
    "0.7 * 0.8 + 0.6 * 0.3"
   ]
  },
  {
   "cell_type": "code",
   "execution_count": 6,
   "metadata": {},
   "outputs": [
    {
     "name": "stdout",
     "output_type": "stream",
     "text": [
      "(2,) (2, 2) (2, 2, 2)\n"
     ]
    }
   ],
   "source": [
    "pb = np.array([0.7, 0.3])\n",
    "pbstarb = np.array([[1, 2],[3, 4]])\n",
    "pbb = np.array([\n",
    "    [[5, 6], [7, 8]],\n",
    "])\n",
    "\n",
    "user = np.array([0])\n",
    "\n",
    "print(pb.shape, pbstarb.shape, pbb.shape)\n",
    "\n",
    "numerator = np.prod(pb[0], pbstarb[0][0], user[0][0]) +  np.prod(pb[0], pbstarb[1][0], user[0][0])\n",
    "\n",
    "\n",
    "pbb = np.array([\n",
    "    [[5, 6], [7, 8]],\n",
    "    [[9, 10], [11, 12]]\n",
    "])\n"
   ]
  },
  {
   "cell_type": "code",
   "execution_count": 60,
   "metadata": {},
   "outputs": [
    {
     "name": "stdout",
     "output_type": "stream",
     "text": [
      "PBB: [[[ 5  6]\n",
      "  [ 7  8]]\n",
      "\n",
      " [[ 9 10]\n",
      "  [11 12]]]\n",
      "_______\n",
      "A: [ 6 12]\n",
      "****\n",
      "72\n"
     ]
    }
   ],
   "source": [
    "pbb = np.array([\n",
    "    [[5, 6], [7, 8]],\n",
    "    [[9, 10], [11, 12]]\n",
    "]\n",
    ")\n",
    "print(f'PBB: {pbb}')\n",
    "print('_______')\n",
    "user = np.array([0,1])\n",
    "\n",
    "a = pbb[np.arange(len(pbb)),user][:,1]\n",
    "\n",
    "print(f'A: {a}')\n",
    "print('****')\n",
    "print(np.prod(a))\n"
   ]
  },
  {
   "cell_type": "code",
   "execution_count": 52,
   "metadata": {},
   "outputs": [
    {
     "data": {
      "text/plain": [
       "(2, 2)"
      ]
     },
     "execution_count": 52,
     "metadata": {},
     "output_type": "execute_result"
    }
   ],
   "source": [
    "pbb[0].shape"
   ]
  },
  {
   "cell_type": "code",
   "execution_count": 53,
   "metadata": {},
   "outputs": [
    {
     "name": "stdout",
     "output_type": "stream",
     "text": [
      "[array([5, 6]), array([11, 12])]\n"
     ]
    }
   ],
   "source": [
    "pbb = np.array([\n",
    "    [[5, 6], [7, 8]],\n",
    "    [[9, 10], [11, 12]]\n",
    "    \n",
    "]\n",
    ")\n",
    "\n",
    "user = np.array([0,1])\n",
    "\n",
    "a = []\n",
    "for i in range(0, len(pbb)):\n",
    "    a.append(pbb[i][user[i]])\n",
    "\n",
    "print(a)"
   ]
  },
  {
   "cell_type": "code",
   "execution_count": 71,
   "metadata": {},
   "outputs": [
    {
     "data": {
      "text/plain": [
       "0.6137172436104821"
      ]
     },
     "execution_count": 71,
     "metadata": {},
     "output_type": "execute_result"
    }
   ],
   "source": [
    "pb = np.array([0.7, 0.3])\n",
    "pbstarb = np.array([[1, 2],[3, 4]])\n",
    "pbb = pbb = np.array([\n",
    "    [[5, 6], [7, 8]],\n",
    "    [[9, 10], [11, 12]]\n",
    "    ])\n",
    "user = np.array([0,1])\n",
    "\n",
    "numerator = pb[0]*pbstarb[0][0]* np.prod(pbb[np.arange(len(pbb)),user][:,0])  + pb[0]*pbstarb[1][0] * np.prod(pbb[np.arange(len(pbb)),user][:,1])\n",
    "d_b_0 = numerator\n",
    "d_b_1 = pb[1] * pbstarb[0][1] * np.prod(pbb[np.arange(len(pbb)),user][:,0]) + pb[1] * pbstarb[1][1] * np.prod(pbb[np.arange(len(pbb)),user][:,1])\n",
    "\n",
    "denominator = d_b_0 + d_b_1\n",
    "\n",
    "numerator / denominator\n",
    "\n"
   ]
  },
  {
   "cell_type": "markdown",
   "metadata": {},
   "source": []
  },
  {
   "cell_type": "code",
   "execution_count": 74,
   "metadata": {},
   "outputs": [
    {
     "data": {
      "text/plain": [
       "0.6137172436104821"
      ]
     },
     "execution_count": 74,
     "metadata": {},
     "output_type": "execute_result"
    }
   ],
   "source": [
    "num = 0.7 * 1 * 5 * 11 + 0.7 * 3 * 6 * 12\n",
    "den = num + (  0.3 * 2 * 5 * 11 + 0.3 * 4 * 6 * 12  )\n",
    "num/den\n"
   ]
  },
  {
   "cell_type": "code",
   "execution_count": 66,
   "metadata": {},
   "outputs": [
    {
     "data": {
      "text/plain": [
       "113.39999999999999"
      ]
     },
     "execution_count": 66,
     "metadata": {},
     "output_type": "execute_result"
    }
   ],
   "source": [
    "(  0.3 * 2 * 5 * 9 + 0.3 * 4 * 6 * 12  )"
   ]
  },
  {
   "cell_type": "code",
   "execution_count": 39,
   "metadata": {},
   "outputs": [
    {
     "name": "stdout",
     "output_type": "stream",
     "text": [
      "(1, 2, 2)\n",
      "(1, 2, 2)\n",
      "[[[ 5  6]\n",
      "  [ 7  8]]\n",
      "\n",
      " [[ 9 10]\n",
      "  [11 12]]] (2, 2, 2)\n",
      "[[[ 5  6]\n",
      "  [ 7  8]]\n",
      "\n",
      " [[ 9 10]\n",
      "  [11 12]]\n",
      "\n",
      " [[ 9 10]\n",
      "  [11 12]]] (3, 2, 2)\n"
     ]
    }
   ],
   "source": [
    "pbb = np.array([\n",
    "    [[5, 6], [7, 8]],\n",
    "])\n",
    "print(pbb.shape)\n",
    "new_array = np.array([[[9, 10], [11, 12]]])\n",
    "print(new_array.shape)\n",
    "pbb = np.vstack((pbb, new_array))\n",
    "print(pbb, pbb.shape)\n",
    "pbb = np.vstack((pbb, new_array))\n",
    "print(pbb, pbb.shape)\n"
   ]
  },
  {
   "cell_type": "code",
   "execution_count": 41,
   "metadata": {},
   "outputs": [
    {
     "data": {
      "text/plain": [
       "array([[[1., 1.],\n",
       "        [1., 1.]]])"
      ]
     },
     "execution_count": 41,
     "metadata": {},
     "output_type": "execute_result"
    }
   ],
   "source": [
    "p_b_bstar = np.array([np.ones((2,2))])\n",
    "p_b_bstar"
   ]
  },
  {
   "cell_type": "code",
   "execution_count": 58,
   "metadata": {},
   "outputs": [
    {
     "data": {
      "text/plain": [
       "1"
      ]
     },
     "execution_count": 58,
     "metadata": {},
     "output_type": "execute_result"
    }
   ],
   "source": [
    "np.random.binomial(1, 0.9)"
   ]
  },
  {
   "cell_type": "code",
   "execution_count": 7,
   "metadata": {},
   "outputs": [
    {
     "data": {
      "text/plain": [
       "1.1600000000000001"
      ]
     },
     "execution_count": 7,
     "metadata": {},
     "output_type": "execute_result"
    }
   ],
   "source": [
    "0.6 * 2.6 - 0.4"
   ]
  },
  {
   "cell_type": "code",
   "execution_count": 35,
   "metadata": {},
   "outputs": [
    {
     "data": {
      "text/plain": [
       "1.243746262157857"
      ]
     },
     "execution_count": 35,
     "metadata": {},
     "output_type": "execute_result"
    }
   ],
   "source": [
    "eps_perm = 2.6\n",
    "e1 = 0.38\n",
    "epsilons = np.array([[2.6, e1], [0.8, e1], [0.8, e1], [0.8, e1]])\n",
    "\n",
    "# epsilons[:,1]\n",
    "total_loss_minority = np.log((np.exp(eps_perm + epsilons[:,1].sum()) + 1) / (np.exp(eps_perm) + np.exp(epsilons[:,1].sum())))\n",
    "total_loss_minority"
   ]
  },
  {
   "cell_type": "code",
   "execution_count": 14,
   "metadata": {},
   "outputs": [
    {
     "data": {
      "text/plain": [
       "0.38666666666666666"
      ]
     },
     "execution_count": 14,
     "metadata": {},
     "output_type": "execute_result"
    }
   ],
   "source": [
    "1.16/3"
   ]
  },
  {
   "cell_type": "code",
   "execution_count": 36,
   "metadata": {},
   "outputs": [
    {
     "data": {
      "text/plain": [
       "1.243746262157857"
      ]
     },
     "execution_count": 36,
     "metadata": {},
     "output_type": "execute_result"
    }
   ],
   "source": [
    "eps_perm = 2.6\n",
    "e1 = 1.52\n",
    "epsilons = np.array([[2.6, e1]])\n",
    "\n",
    "# epsilons[:,1]\n",
    "total_loss_single = np.log((np.exp(eps_perm + epsilons[:,1].sum()) + 1) / (np.exp(eps_perm) + np.exp(epsilons[:,1].sum())))\n",
    "total_loss_single"
   ]
  },
  {
   "cell_type": "code",
   "execution_count": 44,
   "metadata": {},
   "outputs": [
    {
     "name": "stdout",
     "output_type": "stream",
     "text": [
      "1.243746262157857 1.243746262157857\n"
     ]
    }
   ],
   "source": [
    "eps_inf = 2.6\n",
    "e1 = 0.38\n",
    "our_epsilons = np.array([[2.6, e1], [0.8, e1], [0.8, e1], [0.8, e1]])\n",
    "\n",
    "sota_epsilons = [[eps_inf, 1.52]]\n",
    "\n",
    "our_mechanism_total_loss_for_minority = np.log((np.exp(eps_inf + our_epsilons[:,1].sum()) + 1) / (np.exp(eps_inf) + np.exp(our_epsilons[:,1].sum())))\n",
    "sota_mechanism_total_loss = np.log((np.exp(eps_inf + 1.52) + 1) / (np.exp(eps_inf) + np.exp(1.52)))\n",
    "print(our_mechanism_total_loss_for_minority, sota_mechanism_total_loss)"
   ]
  },
  {
   "cell_type": "code",
   "execution_count": 36,
   "metadata": {},
   "outputs": [
    {
     "name": "stdout",
     "output_type": "stream",
     "text": [
      "0.962522499702665 1.243746262157857\n"
     ]
    }
   ],
   "source": [
    "eps_inf = 2.6\n",
    "e0 = 1\n",
    "e1 = 0.05\n",
    "our_epsilons = np.array([[2.6, e0], [0.8, e1], [0.8, e1], [0.8, e1]])\n",
    "\n",
    "sotaeps1 = 1.52\n",
    "sota_epsilons = [[eps_inf, sotaeps1]]\n",
    "\n",
    "our_mechanism_total_loss_for_minority = np.log((np.exp(eps_inf + our_epsilons[:,1].sum()) + 1) / (np.exp(eps_inf) + np.exp(our_epsilons[:,1].sum())))\n",
    "sota_mechanism_total_loss = np.log((np.exp(eps_inf + sotaeps1) + 1) / (np.exp(eps_inf) + np.exp(sotaeps1)))\n",
    "print(our_mechanism_total_loss_for_minority, sota_mechanism_total_loss)"
   ]
  },
  {
   "cell_type": "code",
   "execution_count": 34,
   "metadata": {},
   "outputs": [
    {
     "data": {
      "text/plain": [
       "0.9999999999999996"
      ]
     },
     "execution_count": 34,
     "metadata": {},
     "output_type": "execute_result"
    }
   ],
   "source": [
    "eps_inf = 2.6\n",
    "e0 = 1.197813055590637\n",
    "our_epsilons = np.array([[2.6, e0]])\n",
    "                        \n",
    "np.log((np.exp(eps_inf + our_epsilons[:,1].sum()) + 1) / (np.exp(eps_inf) + np.exp(our_epsilons[:,1].sum())))"
   ]
  },
  {
   "cell_type": "code",
   "execution_count": 66,
   "metadata": {},
   "outputs": [
    {
     "data": {
      "text/plain": [
       "1.243746262157857"
      ]
     },
     "execution_count": 66,
     "metadata": {},
     "output_type": "execute_result"
    }
   ],
   "source": [
    "np.log((np.exp(eps_inf+4*e1)+1)/(np.exp(eps_inf)+np.exp(4*e1)))"
   ]
  },
  {
   "cell_type": "code",
   "execution_count": null,
   "metadata": {},
   "outputs": [
    {
     "data": {
      "text/plain": [
       "(0.04083813840428816, 0.014511287698639064)"
      ]
     },
     "execution_count": 117,
     "metadata": {},
     "output_type": "execute_result"
    }
   ],
   "source": [
    "eps_inf = 2.6 \n",
    "e1 = 0.8\n",
    "a = np.exp(eps_inf) + np.exp(3*e1)\n",
    "b = np.exp(eps_inf + (2 * e1)) + np.exp(e1)\n",
    "\n",
    "1/a , 1/b"
   ]
  },
  {
   "cell_type": "code",
   "execution_count": 113,
   "metadata": {},
   "outputs": [
    {
     "data": {
      "text/plain": [
       "0.76"
      ]
     },
     "execution_count": 113,
     "metadata": {},
     "output_type": "execute_result"
    }
   ],
   "source": [
    "total = 1.243746262157857\n",
    "times = 2\n",
    "\n",
    "eps_inf = 2.6 \n",
    "np.log((1-np.exp(total+eps_inf))/(np.exp(total)-np.exp(eps_inf))) * 1/times"
   ]
  },
  {
   "cell_type": "code",
   "execution_count": 29,
   "metadata": {},
   "outputs": [
    {
     "data": {
      "text/plain": [
       "0.52"
      ]
     },
     "execution_count": 29,
     "metadata": {},
     "output_type": "execute_result"
    }
   ],
   "source": [
    "import numpy as np\n",
    "total = 1.243746262157857\n",
    "times = 2\n",
    "e0 = 1\n",
    "eps_inf = 2.6 \n",
    "( np.log((1-np.exp(total+eps_inf))/(np.exp(total)-np.exp(eps_inf))) - e0) * 1/(times-1)"
   ]
  },
  {
   "cell_type": "code",
   "execution_count": 110,
   "metadata": {},
   "outputs": [
    {
     "data": {
      "image/png": "[encoded data removed]",
      "text/plain": [
       "<Figure size 640x480 with 1 Axes>"
      ]
     },
     "metadata": {},
     "output_type": "display_data"
    }
   ],
   "source": [
    "import matplotlib.pyplot as plt\n",
    "\n",
    "# Define array a and value v\n",
    "a = [5, 4, 3, 2, 1]\n",
    "v = 3.5\n",
    "\n",
    "# Plot the line based on array a\n",
    "plt.plot(range(1,len(a)+1), a, marker='o', color='blue', label=f'{a[-1]}')\n",
    "\n",
    "# Mark a star where y-axis corresponds to v\n",
    "# Mark a star where y-axis corresponds to v\n",
    "plt.scatter(1, v, color='blue', marker='*', s=200, label='Star')\n",
    "\n",
    "\n",
    "# Add labels and legend\n",
    "plt.xlabel('Index')\n",
    "plt.ylabel('Values')\n",
    "plt.title('Line with Star Marker')\n",
    "plt.legend()\n",
    "\n",
    "# Show the plot\n",
    "plt.grid(True)\n",
    "plt.show()"
   ]
  },
  {
   "cell_type": "code",
   "execution_count": 26,
   "metadata": {},
   "outputs": [
    {
     "data": {
      "text/plain": [
       "1.243746262157857"
      ]
     },
     "execution_count": 26,
     "metadata": {},
     "output_type": "execute_result"
    }
   ],
   "source": [
    "np.log(  (np.exp(2.6+1.52) + 1)/(np.exp(2.6)+ np.exp(1.52))    )"
   ]
  },
  {
   "cell_type": "code",
   "execution_count": 31,
   "metadata": {},
   "outputs": [
    {
     "name": "stdout",
     "output_type": "stream",
     "text": [
      "length: 199999\n",
      "total below alpha 99\n",
      "total above alpha 199899\n"
     ]
    },
    {
     "data": {
      "text/plain": [
       "[<matplotlib.lines.Line2D at 0x7f5a479ea520>]"
      ]
     },
     "execution_count": 31,
     "metadata": {},
     "output_type": "execute_result"
    },
    {
     "data": {
      "image/png": "[encoded data removed]",
      "text/plain": [
       "<Figure size 640x480 with 1 Axes>"
      ]
     },
     "metadata": {},
     "output_type": "display_data"
    }
   ],
   "source": [
    "import numpy as np\n",
    "import matplotlib.pyplot as plt\n",
    "last = 2\n",
    "d = np.arange(0.00001, last, 0.00001)\n",
    "\n",
    "print(f'length: {len(d)}')\n",
    "alpha = 0.001\n",
    "print(f'total below alpha {len(d[d<alpha])}')\n",
    "print(f'total above alpha {len(d[d>alpha])}')\n",
    "\n",
    "def func(diff):\n",
    "    \n",
    "    k1 = 1\n",
    "    k2 = 1\n",
    "    k3 = 2\n",
    "    if diff < alpha:\n",
    "        return k1 * np.exp(diff)\n",
    "    else:\n",
    "        return k2 * np.exp(k3* diff)\n",
    "r = [func(i) for i in d]\n",
    "\n",
    "\n",
    "plt.plot(d,r)"
   ]
  },
  {
   "cell_type": "code",
   "execution_count": 32,
   "metadata": {},
   "outputs": [
    {
     "data": {
      "text/plain": [
       "array([0, 1])"
      ]
     },
     "execution_count": 32,
     "metadata": {},
     "output_type": "execute_result"
    }
   ],
   "source": [
    "np.arange(2)"
   ]
  },
  {
   "cell_type": "code",
   "execution_count": null,
   "metadata": {},
   "outputs": [],
   "source": []
  }
 ],
 "metadata": {
  "kernelspec": {
   "display_name": "Python (whatever you want to call it)",
   "language": "python",
   "name": "priv_tuts"
  },
  "language_info": {
   "codemirror_mode": {
    "name": "ipython",
    "version": 3
   },
   "file_extension": ".py",
   "mimetype": "text/x-python",
   "name": "python",
   "nbconvert_exporter": "python",
   "pygments_lexer": "ipython3",
   "version": "3.8.10"
  }
 },
 "nbformat": 4,
 "nbformat_minor": 2
}
